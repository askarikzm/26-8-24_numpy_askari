{
 "cells": [
  {
   "cell_type": "markdown",
   "metadata": {},
   "source": [
    "## solving numpy assignment"
   ]
  },
  {
   "cell_type": "markdown",
   "metadata": {},
   "source": [
    "1. A Python library is a collection of pre-written code that provides a set of functionalities and tools to perform specific tasks. It contains modules, functions, classes, and methods that can be imported and used in Python programs.  We use Python libraries for several reasons:  1. Reusability: Python libraries allow us to reuse existing code rather than writing everything from scratch. They provide pre-built functions and modules that can be easily integrated into our programs, saving time and effort.  2. Efficiency: Python libraries are often optimized for performance and efficiency. They are developed by experts and undergo rigorous testing, ensuring that they are reliable and provide efficient solutions to common problems.  3. Functionality: Python libraries extend the capabilities of the Python programming language. They provide specialized tools and functionalities for various domains such as data analysis, machine learning, web development, scientific computing, and more. By using libraries, we can leverage these specialized functionalities without having to implement them ourselves. "
   ]
  },
  {
   "cell_type": "markdown",
   "metadata": {},
   "source": [
    "2. The main difference between a NumPy array and a Python list is their underlying implementation and the operations they support.\n",
    "\n",
    "NumPy arrays are homogeneous and fixed-size, meaning that all elements in the array have the same data type, and the size of the array is fixed when it is created. This allows for efficient storage and computation of large datasets. NumPy arrays also support vectorized operations, which means that you can perform operations on entire arrays without the need for explicit loops.\n",
    "\n",
    "On the other hand, Python lists are heterogeneous and dynamic, meaning that they can contain elements of different data types, and their size can change dynamically as elements are added or removed. Lists are more flexible and can store different types of data, but they are less efficient for numerical computations compared to NumPy arrays.\n",
    "\n",
    "Here's a summary of the main differences between NumPy arrays and Python lists:\n",
    "\n",
    "1. Memory Efficiency: NumPy arrays are more memory-efficient compared to Python lists, especially for large datasets, due to their fixed-size and homogeneous nature.\n",
    "\n",
    "2. Performance: NumPy arrays are faster for numerical computations because they support vectorized operations, which can be executed efficiently by optimized C code. Python lists, on the other hand, require explicit loops for element-wise operations.\n",
    "\n",
    "3. Data Type: NumPy arrays are homogeneous, meaning that all elements in the array must have the same data type. Python lists can contain elements of different data types.\n",
    "\n",
    "4. Size and Shape: NumPy arrays have a fixed size and shape when they are created, whereas Python lists can change dynamically as elements are added or removed.\n"
   ]
  },
  {
   "cell_type": "code",
   "execution_count": 18,
   "metadata": {},
   "outputs": [],
   "source": [
    "import numpy as np\n",
    "matrix=np.array([[1, 2, 3, 4],\n",
    "[5, 6, 7, 8],\n",
    "[9, 10, 11, 12]])\n"
   ]
  },
  {
   "cell_type": "code",
   "execution_count": 19,
   "metadata": {},
   "outputs": [
    {
     "data": {
      "text/plain": [
       "2"
      ]
     },
     "execution_count": 19,
     "metadata": {},
     "output_type": "execute_result"
    }
   ],
   "source": [
    "## Find the shape, size and dimension of the following array?\n",
    "matrix.shape\n",
    "matrix.size\n",
    "matrix.ndim"
   ]
  },
  {
   "cell_type": "code",
   "execution_count": 20,
   "metadata": {},
   "outputs": [
    {
     "data": {
      "text/plain": [
       "array([1, 2, 3, 4])"
      ]
     },
     "execution_count": 20,
     "metadata": {},
     "output_type": "execute_result"
    }
   ],
   "source": [
    "## 4. Write python code to access the first row of the following array?\n",
    "matrix[0]"
   ]
  },
  {
   "cell_type": "code",
   "execution_count": 21,
   "metadata": {},
   "outputs": [
    {
     "data": {
      "text/plain": [
       "12"
      ]
     },
     "execution_count": 21,
     "metadata": {},
     "output_type": "execute_result"
    }
   ],
   "source": [
    "## 5. How do you access the element at the third row and fourth column from the given numpy array?\n",
    "matrix[2][3]"
   ]
  },
  {
   "cell_type": "code",
   "execution_count": 22,
   "metadata": {},
   "outputs": [
    {
     "data": {
      "text/plain": [
       "array([[ 1,  3],\n",
       "       [ 9, 11]])"
      ]
     },
     "execution_count": 22,
     "metadata": {},
     "output_type": "execute_result"
    }
   ],
   "source": [
    "## 6. Write code to extract all odd-indexed elements from the given numpy array?\n",
    "matrix[0::2,0::2]"
   ]
  },
  {
   "cell_type": "code",
   "execution_count": 23,
   "metadata": {},
   "outputs": [
    {
     "data": {
      "text/plain": [
       "array([[0, 0, 0],\n",
       "       [0, 0, 0],\n",
       "       [0, 0, 0]])"
      ]
     },
     "execution_count": 23,
     "metadata": {},
     "output_type": "execute_result"
    }
   ],
   "source": [
    "## 7. How can you generate a random 3x3 matrix with values between 0 and 1?\n",
    "np.random.randint(0,1,size=(3,3))"
   ]
  },
  {
   "cell_type": "code",
   "execution_count": 24,
   "metadata": {
    "vscode": {
     "languageId": "markdown"
    }
   },
   "outputs": [],
   "source": [
    "## 8\n",
    "## np.random.rand generates random numbers from a uniform distribution between 0 and 1.\n",
    "## np.random.randn generates random numbers from a standard normal distribution with mean 0 and standard deviation 1.\n"
   ]
  },
  {
   "cell_type": "code",
   "execution_count": 25,
   "metadata": {
    "vscode": {
     "languageId": "markdown"
    }
   },
   "outputs": [
    {
     "data": {
      "text/plain": [
       "3"
      ]
     },
     "execution_count": 25,
     "metadata": {},
     "output_type": "execute_result"
    }
   ],
   "source": [
    "## 9. Write code to increase the dimension of the following array?\n",
    "matrix.shape\n",
    "matrix=matrix.reshape(2,2,3)\n",
    "matrix.ndim"
   ]
  },
  {
   "cell_type": "code",
   "execution_count": 26,
   "metadata": {
    "vscode": {
     "languageId": "markdown"
    }
   },
   "outputs": [
    {
     "data": {
      "text/plain": [
       "array([[[ 1,  7],\n",
       "        [ 4, 10]],\n",
       "\n",
       "       [[ 2,  8],\n",
       "        [ 5, 11]],\n",
       "\n",
       "       [[ 3,  9],\n",
       "        [ 6, 12]]])"
      ]
     },
     "execution_count": 26,
     "metadata": {},
     "output_type": "execute_result"
    }
   ],
   "source": [
    "##10. How to transpose the following array in NumPy?\n",
    "matrix.T"
   ]
  },
  {
   "cell_type": "code",
   "execution_count": 27,
   "metadata": {
    "vscode": {
     "languageId": "markdown"
    }
   },
   "outputs": [
    {
     "data": {
      "text/plain": [
       "24"
      ]
     },
     "execution_count": 27,
     "metadata": {},
     "output_type": "execute_result"
    }
   ],
   "source": [
    "##11 \n",
    "matrix1=np.array([[1, 2, 3, 4] ,[5, 6, 7, 8],[9, 10, 11, 12]])\n",
    "matrix2=np.array([[1, 2, 3, 4] ,[5, 6, 7, 8],[9, 10, 11, 12]])\n",
    "matrix2 * matrix2\n",
    "matrix2 + matrix1\n",
    "matrix2 / matrix1\n",
    "matrix2[1][3] *matrix2[0][2]"
   ]
  },
  {
   "cell_type": "code",
   "execution_count": 28,
   "metadata": {
    "vscode": {
     "languageId": "markdown"
    }
   },
   "outputs": [],
   "source": [
    " ##  12. Which function in Numpy can be used to swap the byte order of an array?\n",
    "## byteswap()\n",
    "## example "
   ]
  },
  {
   "cell_type": "code",
   "execution_count": 29,
   "metadata": {
    "vscode": {
     "languageId": "markdown"
    }
   },
   "outputs": [
    {
     "name": "stdout",
     "output_type": "stream",
     "text": [
      "['0x1', '0x2', '0x3', '0x5']\n",
      "['0x100000000000000', '0x200000000000000', '0x300000000000000', '0x500000000000000']\n"
     ]
    }
   ],
   "source": [
    "hello=np.array([1,2,3,5])\n",
    "print(list(map(hex,hello)))\n",
    "hello.byteswap(inplace=True)\n",
    "print(list(map(hex,hello)))"
   ]
  },
  {
   "cell_type": "markdown",
   "metadata": {},
   "source": [
    "13. What is the significance of the np.linalg.inv function?\n",
    "to get the inverse of a matrix in solving linear algebra equations"
   ]
  },
  {
   "cell_type": "code",
   "execution_count": 30,
   "metadata": {
    "vscode": {
     "languageId": "markdown"
    }
   },
   "outputs": [
    {
     "data": {
      "text/plain": [
       "array([[-0.53703704,  0.81481481,  0.46296296],\n",
       "       [-0.57407407,  0.62962963,  0.42592593],\n",
       "       [-0.62962963,  0.85185185,  0.37037037]])"
      ]
     },
     "execution_count": 30,
     "metadata": {},
     "output_type": "execute_result"
    }
   ],
   "source": [
    "from numpy.linalg import solve\n",
    "a = np.array([[7,-5,-3],[3,-5,2],[5,3,-7]])\n",
    "z = np.array([[7,-5,-3],[3,-5,2],[5,3,-7]])\n",
    "np.linalg.solve(a,z)\n",
    "np.linalg.inv(a)"
   ]
  },
  {
   "cell_type": "code",
   "execution_count": 31,
   "metadata": {
    "vscode": {
     "languageId": "markdown"
    }
   },
   "outputs": [
    {
     "data": {
      "text/plain": [
       "array([[[ 1,  2,  3],\n",
       "        [ 4,  5,  6]],\n",
       "\n",
       "       [[ 7,  8,  9],\n",
       "        [10, 11, 12]]])"
      ]
     },
     "execution_count": 31,
     "metadata": {},
     "output_type": "execute_result"
    }
   ],
   "source": [
    "#14. What does the np.reshape function do, and how is it used?\n",
    "##Gives a new shape to an array without changing its data.\n",
    "matrix1.reshape(2,2,3)"
   ]
  },
  {
   "cell_type": "markdown",
   "metadata": {},
   "source": [
    "15 Broadcasting in NumPy is a powerful feature that allows arrays of different shapes to be used together in arithmetic operations. It eliminates the need for explicit loops and enables efficient computation on arrays of different sizes.\n",
    "\n",
    "In NumPy, broadcasting works by automatically aligning the dimensions of two arrays to perform element-wise operations. When performing operations between arrays with different shapes, NumPy automatically broadcasts the smaller array to match the shape of the larger array.\n",
    "\n",
    "The broadcasting rules in NumPy are as follows:\n",
    "\n",
    "1. If the arrays have different numbers of dimensions, the array with fewer dimensions is padded with ones on its left side until the number of dimensions matches.\n",
    "\n",
    "2. If the shape of the arrays does not match in any dimension, the array with shape equal to 1 in that dimension is stretched to match the shape of the other array.\n",
    "\n",
    "3. If the arrays have different sizes in any dimension and neither size is equal to 1, then broadcasting is not possible, and a ValueError will be raised."
   ]
  },
  {
   "cell_type": "code",
   "execution_count": 32,
   "metadata": {
    "vscode": {
     "languageId": "markdown"
    }
   },
   "outputs": [
    {
     "name": "stdout",
     "output_type": "stream",
     "text": [
      "140\n"
     ]
    }
   ],
   "source": [
    "import numpy as np\n",
    "a = np.array([1, 2, 3]) \n",
    "b = np.array([10, 20, 30])  \n",
    "result = a @ b\n",
    "print(result)"
   ]
  }
 ],
 "metadata": {
  "kernelspec": {
   "display_name": "myenv",
   "language": "python",
   "name": "python3"
  },
  "language_info": {
   "codemirror_mode": {
    "name": "ipython",
    "version": 3
   },
   "file_extension": ".py",
   "mimetype": "text/x-python",
   "name": "python",
   "nbconvert_exporter": "python",
   "pygments_lexer": "ipython3",
   "version": "3.12.3"
  }
 },
 "nbformat": 4,
 "nbformat_minor": 2
}
